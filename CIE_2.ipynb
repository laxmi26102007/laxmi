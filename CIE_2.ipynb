{
  "nbformat": 4,
  "nbformat_minor": 0,
  "metadata": {
    "colab": {
      "private_outputs": true,
      "provenance": [],
      "authorship_tag": "ABX9TyM9YrHxUdcsS6e64jZLIxmz",
      "include_colab_link": true
    },
    "kernelspec": {
      "name": "python3",
      "display_name": "Python 3"
    },
    "language_info": {
      "name": "python"
    }
  },
  "cells": [
    {
      "cell_type": "markdown",
      "metadata": {
        "id": "view-in-github",
        "colab_type": "text"
      },
      "source": [
        "<a href=\"https://colab.research.google.com/github/laxmi26102007/laxmi/blob/main/CIE_2.ipynb\" target=\"_parent\"><img src=\"https://colab.research.google.com/assets/colab-badge.svg\" alt=\"Open In Colab\"/></a>"
      ]
    },
    {
      "cell_type": "code",
      "execution_count": null,
      "metadata": {
        "id": "C-4_UigiIOBU"
      },
      "outputs": [],
      "source": [
        "import pandas as pd\n",
        "import matplotlib.pyplot as plt\n",
        "df=pd.read_csv('/content/titanic (1).csv')\n",
        "print(df.info())\n",
        "print(df.describe())\n",
        "print(df.head())\n",
        "print(df.tail())\n",
        "print(df.isnull().sum)\n"
      ]
    },
    {
      "cell_type": "code",
      "source": [
        "missing_Survived =df['Survived'].isnull().sum()\n",
        "missing_age =df['Age'].isnull().sum()\n",
        "print('Missing Survived:',missing_Survived)\n",
        "print('Missing Age:',missing_age)"
      ],
      "metadata": {
        "id": "JkMvnMZzMENp"
      },
      "execution_count": null,
      "outputs": []
    },
    {
      "cell_type": "code",
      "metadata": {
        "id": "e738f2a4"
      },
      "source": [
        "Pclass_counts = df['Pclass'].value_counts()\n",
        "plt.bar(Pclass_counts.index, Pclass_counts.values ,color='pink')\n",
        "plt.xlabel('Pclass')\n",
        "plt.ylabel('Count')\n",
        "plt.title('Pclass Count')\n",
        "plt.show()"
      ],
      "execution_count": null,
      "outputs": []
    }
  ]
}